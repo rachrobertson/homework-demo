{
 "cells": [
  {
   "cell_type": "code",
   "execution_count": 6,
   "id": "dad82819",
   "metadata": {},
   "outputs": [],
   "source": [
    " # Question 1\n",
    "## write a conditional expression that compares x and y and \n",
    "## prints \"x is larger than y\" if x is larger than y or\n",
    "## prints \"x is smaller than y\" if x is smaller than y\n",
    "\n",
    "x = 10\n",
    "y = 15\n",
    "\n",
    "if x > y:\n",
    "    print(\"x is larger than y\")\n",
    "    \n",
    "if x < y:\n",
    "    print:(\"x is smaller than y\")\n",
    "        "
   ]
  },
  {
   "cell_type": "code",
   "execution_count": 9,
   "id": "78991412",
   "metadata": {},
   "outputs": [
    {
     "name": "stdout",
     "output_type": "stream",
     "text": [
      "6\n",
      "11\n",
      "16\n",
      "21\n",
      "26\n"
     ]
    }
   ],
   "source": [
    "## Question 2\n",
    "## write a for loop that prints the values in this list but increases each number by 5\n",
    "numbers = [1, 6, 11, 16, 21]\n",
    "\n",
    "for number in numbers:\n",
    "    new_number = number + 5\n",
    "    print(new_number)\n"
   ]
  },
  {
   "cell_type": "code",
   "execution_count": 14,
   "id": "d7a3881d",
   "metadata": {},
   "outputs": [
    {
     "data": {
      "text/plain": [
       "144.24"
      ]
     },
     "execution_count": 14,
     "metadata": {},
     "output_type": "execute_result"
    }
   ],
   "source": [
    "## Question 3\n",
    "## add these two numbers together and round to 2 decimal places\n",
    "number_1 = 42.569783\n",
    "number_2 = 101.668342\n",
    "\n",
    "round((number_1 + number_2),2)\n"
   ]
  },
  {
   "cell_type": "code",
   "execution_count": null,
   "id": "a3a243e6",
   "metadata": {},
   "outputs": [],
   "source": []
  }
 ],
 "metadata": {
  "kernelspec": {
   "display_name": "Python 3 (ipykernel)",
   "language": "python",
   "name": "python3"
  },
  "language_info": {
   "codemirror_mode": {
    "name": "ipython",
    "version": 3
   },
   "file_extension": ".py",
   "mimetype": "text/x-python",
   "name": "python",
   "nbconvert_exporter": "python",
   "pygments_lexer": "ipython3",
   "version": "3.9.7"
  }
 },
 "nbformat": 4,
 "nbformat_minor": 5
}
